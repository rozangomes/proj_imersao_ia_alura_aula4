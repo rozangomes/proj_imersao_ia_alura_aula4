{
  "nbformat": 4,
  "nbformat_minor": 0,
  "metadata": {
    "colab": {
      "provenance": [],
      "authorship_tag": "ABX9TyPwQdtgdocaruUpgphuGvoF",
      "include_colab_link": true
    },
    "kernelspec": {
      "name": "python3",
      "display_name": "Python 3"
    },
    "language_info": {
      "name": "python"
    }
  },
  "cells": [
    {
      "cell_type": "markdown",
      "metadata": {
        "id": "view-in-github",
        "colab_type": "text"
      },
      "source": [
        "<a href=\"https://colab.research.google.com/github/rozangomes/proj_imersao_ia_alura_aula4/blob/main/Pesquisa_NPS.ipynb\" target=\"_parent\"><img src=\"https://colab.research.google.com/assets/colab-badge.svg\" alt=\"Open In Colab\"/></a>"
      ]
    },
    {
      "cell_type": "code",
      "execution_count": 3,
      "metadata": {
        "id": "l_2DFwp-mQWF"
      },
      "outputs": [],
      "source": [
        "!pip install -q pandas matplotlib"
      ]
    },
    {
      "cell_type": "code",
      "source": [
        "import pandas as pd\n",
        "import matplotlib.pyplot as plt\n",
        "\n",
        "# Importa a biblioteca do Google Cloud Language\n",
        "from google.cloud import language_v1\n",
        "\n",
        "# Função para coletar respostas\n",
        "def coletar_resposta():\n",
        "    while True:\n",
        "        try:\n",
        "            pontuacao = int(input(\"Em uma escala de 0 a 10, o quanto você recomendaria nosso restaurante a um amigo ou familiar? \"))\n",
        "            if 0 <= pontuacao <= 10:\n",
        "                motivo = input(\"Por favor, explique o motivo da sua nota: \")\n",
        "                return pontuacao, motivo\n",
        "            else:\n",
        "                print(\"Pontuação inválida. Por favor, digite um número entre 0 e 10.\")\n",
        "        except ValueError:\n",
        "            print(\"Entrada inválida. Por favor, digite um número.\")\n",
        "\n",
        "# Coletar respostas\n",
        "respostas = []\n",
        "while True:\n",
        "    resposta = coletar_resposta()\n",
        "    respostas.append(resposta)\n",
        "\n",
        "    continuar = input(\"Deseja adicionar outra resposta? (s/n): \")\n",
        "    if continuar.lower() != 's':\n",
        "        break\n",
        "\n",
        "# Criar DataFrame\n",
        "df = pd.DataFrame(respostas, columns=[\"Pontuação\", \"Motivo\"])\n",
        "\n",
        "# Classificar respondentes\n",
        "df[\"Classificação\"] = pd.cut(df[\"Pontuação\"],\n",
        "                              bins=[0, 6, 8, 10],\n",
        "                              labels=[\"Detratores\", \"Passivos\", \"Promotores\"])\n",
        "\n",
        "# Calcular NPS\n",
        "nps = (df[\"Classificação\"].value_counts(normalize=True)[\"Promotores\"] -\n",
        "       df[\"Classificação\"].value_counts(normalize=True)[\"Detratores\"]) * 100\n",
        "\n",
        "# Exibir resultados\n",
        "print(\"\\n--- Resultados da Pesquisa NPS ---\")\n",
        "print(f\"NPS: {nps:.2f}\")\n",
        "print(df[\"Classificação\"].value_counts())\n",
        "\n",
        "# Criar gráfico de barras\n",
        "plt.figure()\n",
        "df[\"Classificação\"].value_counts().plot(kind=\"bar\")\n",
        "plt.xlabel(\"Classificação\")\n",
        "plt.ylabel(\"Número de Respondentes\")\n",
        "plt.title(\"Distribuição dos Respondentes NPS\")\n",
        "plt.show()\n",
        "\n",
        "# Exibir motivos por classificação (opcional - descomente para usar)\n",
        "# for classificacao in df[\"Classificação\"].unique():\n",
        "#     print(f\"\\n--- Motivos de {classificacao} ---\")\n",
        "#     print(df[df[\"Classificação\"] == classificacao][\"Motivo\"].to_string())\n",
        "\n",
        "# Função para coletar respostas (inalterada)\n",
        "def coletar_resposta():\n",
        "    # ... (código da função coletar_resposta)\n",
        "\n",
        "# Função para analisar sentimento com Gemini\n",
        "def analisar_sentimento(resposta):\n",
        "    \"\"\"\n",
        "\n",
        "    Args:\n",
        "      resposta:\n",
        "\n",
        "    Returns:\n",
        "\n",
        "    \"\"\"\n",
        "    cliente = language_v1.LanguageServiceClient()\n",
        "\n",
        "    documento = language_v1.Document(content=texto, type_=language_v1.Document.Type.PLAIN_TEXT)\n",
        "    sentimento = cliente.analyze_sentiment(request={'document': documento}).document_sentiment\n",
        "\n",
        "    return sentimento.score, sentimento.magnitude\n",
        "\n",
        "# Coletar respostas (inalterada)\n",
        "respostas = []\n",
        "# ... (código para coletar respostas)\n",
        "\n",
        "# Criar DataFrame\n",
        "df = pd.DataFrame(respostas, columns=[\"Pontuação\", \"Motivo\"])\n",
        "\n",
        "# Classificar respondentes (inalterado)\n",
        "# ...\n",
        "\n",
        "# Calcular NPS (inalterado)\n",
        "# ...\n",
        "\n",
        "# Analisar sentimento e adicionar ao DataFrame\n",
        "df[\"Sentimento\"] = df[\"Motivo\"].apply(analisar_sentimento)\n",
        "df[[\"Sentimento_Pontuação\", \"Sentimento_Magnitude\"]] = pd.DataFrame(df[\"Sentimento\"].tolist(), index=df.index)\n",
        "\n",
        "# Exibir resultados (NPS) (inalterado)\n",
        "# ...\n",
        "\n",
        "# Exibir gráfico de barras (inalterado)\n",
        "# ...\n",
        "\n",
        "# Análise de sentimento e sugestões\n",
        "media_sentimento = df[\"Sentimento_Pontuação\"].mean()\n",
        "\n",
        "if nps >= 90 and media_sentimento > 0.2:\n",
        "    print(\"\\nParabéns pelo excelente trabalho! O NPS e o sentimento geral são muito positivos.\")\n",
        "else:\n",
        "    print(\"\\n--- Áreas para Melhoria ---\")\n",
        "    for index, row in df[df[\"Sentimento_Pontuação\"] < 0].iterrows():\n",
        "        print(f\"• Motivo: {row['Motivo']}\")\n",
        "        print(f\"   Sugestão: Investigar e abordar as preocupações do cliente.\")\n",
        "\n",
        "# (Opcional) Exibir motivos (inalterado)\n",
        "# ..."
      ],
      "metadata": {
        "colab": {
          "base_uri": "https://localhost:8080/",
          "height": 106
        },
        "id": "Hl19TOXUmmYy",
        "outputId": "8a8c2cb1-e61b-41f7-a6ed-f239e622f57b"
      },
      "execution_count": 12,
      "outputs": [
        {
          "output_type": "error",
          "ename": "IndentationError",
          "evalue": "expected an indented block after function definition on line 61 (<ipython-input-12-550f3247a44b>, line 65)",
          "traceback": [
            "\u001b[0;36m  File \u001b[0;32m\"<ipython-input-12-550f3247a44b>\"\u001b[0;36m, line \u001b[0;32m65\u001b[0m\n\u001b[0;31m    def analisar_sentimento(resposta):\u001b[0m\n\u001b[0m    ^\u001b[0m\n\u001b[0;31mIndentationError\u001b[0m\u001b[0;31m:\u001b[0m expected an indented block after function definition on line 61\n"
          ]
        }
      ]
    }
  ]
}