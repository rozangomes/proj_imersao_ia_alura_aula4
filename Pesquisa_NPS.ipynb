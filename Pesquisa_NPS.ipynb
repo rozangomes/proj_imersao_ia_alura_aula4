{
  "nbformat": 4,
  "nbformat_minor": 0,
  "metadata": {
    "colab": {
      "provenance": [],
      "authorship_tag": "ABX9TyNrDrNrPR71IEzOk0MuoM58",
      "include_colab_link": true
    },
    "kernelspec": {
      "name": "python3",
      "display_name": "Python 3"
    },
    "language_info": {
      "name": "python"
    }
  },
  "cells": [
    {
      "cell_type": "markdown",
      "metadata": {
        "id": "view-in-github",
        "colab_type": "text"
      },
      "source": [
        "<a href=\"https://colab.research.google.com/github/rozangomes/proj_imersao_ia_alura_aula4/blob/main/Pesquisa_NPS.ipynb\" target=\"_parent\"><img src=\"https://colab.research.google.com/assets/colab-badge.svg\" alt=\"Open In Colab\"/></a>"
      ]
    },
    {
      "cell_type": "code",
      "execution_count": null,
      "metadata": {
        "id": "l_2DFwp-mQWF"
      },
      "outputs": [],
      "source": [
        "!pip install -q pandas matplotlib"
      ]
    },
    {
      "cell_type": "code",
      "source": [
        "import numpy as np\n",
        "import pandas as pd\n",
        "import matplotlib.pyplot as plt\n",
        "import google.generativeai as genai\n",
        "# Importa a biblioteca do Google Cloud Language\n",
        "from google.cloud import language_v1\n",
        "\n"
      ],
      "metadata": {
        "id": "8zo5V-X9tlKb"
      },
      "execution_count": 8,
      "outputs": []
    },
    {
      "cell_type": "code",
      "source": [
        "# Insere uma chave Secreta na API_KEY\n",
        "from google.colab import userdata\n",
        "api_key = userdata.get('secret_key')\n",
        "genai.configure(api_key='secret_key')"
      ],
      "metadata": {
        "id": "cUnBSzDVso04"
      },
      "execution_count": 2,
      "outputs": []
    },
    {
      "cell_type": "code",
      "source": [
        "# Função para coletar respostas\n",
        "def coletar_resposta():\n",
        "    while True:\n",
        "        try:\n",
        "            pontuacao = int(input(\"Em uma escala de 1 a 10, o quanto você recomendaria nosso restaurante a um amigo ou familiar? \"))\n",
        "            if 0 <= pontuacao <= 10:\n",
        "                motivo = input(\"Por favor, explique o motivo da sua nota: \")\n",
        "                return pontuacao, motivo\n",
        "            else:\n",
        "                print(\"Pontuação inválida. Por favor, digite um número entre 1 e 10.\")\n",
        "        except ValueError:\n",
        "            print(\"Entrada inválida. Por favor, digite um número.\")\n",
        "\n"
      ],
      "metadata": {
        "id": "Hl19TOXUmmYy"
      },
      "execution_count": 10,
      "outputs": []
    },
    {
      "cell_type": "code",
      "source": [
        "# Coletar respostas\n",
        "respostas = []\n",
        "while True:\n",
        "    resposta = coletar_resposta()\n",
        "    respostas.append(resposta)\n",
        "\n",
        "    continuar = input(\"Deseja adicionar outra resposta? (s/n): \")\n",
        "    if continuar.lower() != 's':\n",
        "        break\n",
        "\n"
      ],
      "metadata": {
        "colab": {
          "base_uri": "https://localhost:8080/"
        },
        "id": "Y7Zyiubszclg",
        "outputId": "3f0e4f28-49c5-4a1e-e81f-c0701b953685"
      },
      "execution_count": 11,
      "outputs": [
        {
          "name": "stdout",
          "output_type": "stream",
          "text": [
            "Em uma escala de 1 a 10, o quanto você recomendaria nosso restaurante a um amigo ou familiar? 10\n",
            "Por favor, explique o motivo da sua nota: Muito boa comida\n",
            "Deseja adicionar outra resposta? (s/n): n\n"
          ]
        }
      ]
    },
    {
      "cell_type": "code",
      "source": [
        "# Criar DataFrame\n",
        "df = pd.DataFrame(respostas, columns=[\"Pontuação\", \"Motivo\"])\n",
        "\n",
        "# Classificar respondentes\n",
        "df[\"Classificação\"] = pd.cut(df[\"Pontuação\"],\n",
        "                              bins=[0, 6, 8, 10],\n",
        "                              labels=[\"Detratores\", \"Passivos\", \"Promotores\"])\n",
        "\n",
        "# Calcular NPS\n",
        "nps = (df[\"Classificação\"].value_counts(normalize=True)[\"Promotores\"] -\n",
        "       df[\"Classificação\"].value_counts(normalize=True)[\"Detratores\"]) * 100\n",
        "\n"
      ],
      "metadata": {
        "id": "38-viR12zfAY"
      },
      "execution_count": 12,
      "outputs": []
    },
    {
      "cell_type": "code",
      "source": [
        "# Exibir resultados\n",
        "print(\"\\n--- Resultados da Pesquisa NPS ---\")\n",
        "print(f\"NPS: {nps:.2f}\")\n",
        "print(df[\"Classificação\"].value_counts())\n",
        "\n",
        "\n",
        "# Criar gráfico de barras\n",
        "print('\\n')\n",
        "plt.figure()\n",
        "df[\"Classificação\"].value_counts().plot(kind=\"bar\")\n",
        "plt.xlabel(\"Classificação\")\n",
        "plt.ylabel(\"Número de Respondentes\")\n",
        "plt.title(\"Distribuição dos Respondentes NPS\")\n",
        "plt.show()"
      ],
      "metadata": {
        "colab": {
          "base_uri": "https://localhost:8080/",
          "height": 711
        },
        "id": "Da1oEtQ4zixU",
        "outputId": "da059617-8a99-4962-968b-ae12c118d7f3"
      },
      "execution_count": 9,
      "outputs": [
        {
          "output_type": "stream",
          "name": "stdout",
          "text": [
            "\n",
            "--- Resultados da Pesquisa NPS ---\n",
            "NPS: -100.00\n",
            "Classificação\n",
            "Detratores    2\n",
            "Passivos      0\n",
            "Promotores    0\n",
            "Name: count, dtype: int64\n",
            "\n",
            "\n"
          ]
        },
        {
          "output_type": "display_data",
          "data": {
            "text/plain": [
              "<Figure size 640x480 with 1 Axes>"
            ],
            "image/png": "[encoded data removed]"
          },
          "metadata": {}
        }
      ]
    }
  ]
}